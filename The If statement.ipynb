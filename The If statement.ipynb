{
 "cells": [
  {
   "cell_type": "markdown",
   "metadata": {},
   "source": [
    "# Here we will be learning about if statement"
   ]
  },
  {
   "cell_type": "code",
   "execution_count": 2,
   "metadata": {},
   "outputs": [],
   "source": [
    "import numpy as np"
   ]
  },
  {
   "cell_type": "code",
   "execution_count": 4,
   "metadata": {},
   "outputs": [],
   "source": [
    "from numpy.random import randn"
   ]
  },
  {
   "cell_type": "code",
   "execution_count": 17,
   "metadata": {},
   "outputs": [
    {
     "data": {
      "text/plain": [
       "0.825689889495013"
      ]
     },
     "execution_count": 17,
     "metadata": {},
     "output_type": "execute_result"
    }
   ],
   "source": [
    "randn()"
   ]
  },
  {
   "cell_type": "code",
   "execution_count": 28,
   "metadata": {},
   "outputs": [
    {
     "name": "stdout",
     "output_type": "stream",
     "text": [
      "1.1631852079950407is greater than 1\n"
     ]
    }
   ],
   "source": [
    " x = randn()\n",
    "if x > 1:\n",
    "    print(str(x) + \"is greater than 1\")"
   ]
  },
  {
   "cell_type": "code",
   "execution_count": 55,
   "metadata": {},
   "outputs": [
    {
     "name": "stdout",
     "output_type": "stream",
     "text": [
      "1.22436307889392is greater than 1\n"
     ]
    }
   ],
   "source": [
    " x = randn()\n",
    "if x > 1:\n",
    "    print(str(x) + \"is greater than 1\")\n",
    "else:\n",
    "    print(str(x) + \"is less than 1\")"
   ]
  },
  {
   "cell_type": "code",
   "execution_count": 57,
   "metadata": {},
   "outputs": [
    {
     "name": "stdout",
     "output_type": "stream",
     "text": [
      "1.8404203845445564is greater than 1\n"
     ]
    }
   ],
   "source": [
    "#Nested statement\n",
    "x = randn()\n",
    "if x > 1:\n",
    "    print(str(x) + \"is greater than 1\")\n",
    "else:\n",
    "    if x>=-1:\n",
    "        print(\"between -1 and 1\")\n",
    "    else:\n",
    "        print(\"less than -1\")"
   ]
  },
  {
   "cell_type": "code",
   "execution_count": 63,
   "metadata": {},
   "outputs": [
    {
     "name": "stdout",
     "output_type": "stream",
     "text": [
      "less than -1\n"
     ]
    }
   ],
   "source": [
    "#chained statements\n",
    "x = randn()\n",
    "if x > 1:\n",
    "    print(str(x) + \"is greater than 1\")\n",
    "elif x>=-1:\n",
    "    print(\"between -1 and 1\")\n",
    "else:\n",
    "    print(\"less than -1\")"
   ]
  },
  {
   "cell_type": "code",
   "execution_count": null,
   "metadata": {},
   "outputs": [],
   "source": []
  }
 ],
 "metadata": {
  "kernelspec": {
   "display_name": "Python 3",
   "language": "python",
   "name": "python3"
  },
  "language_info": {
   "codemirror_mode": {
    "name": "ipython",
    "version": 3
   },
   "file_extension": ".py",
   "mimetype": "text/x-python",
   "name": "python",
   "nbconvert_exporter": "python",
   "pygments_lexer": "ipython3",
   "version": "3.6.5"
  }
 },
 "nbformat": 4,
 "nbformat_minor": 2
}
